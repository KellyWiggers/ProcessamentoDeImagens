{
 "cells": [
  {
   "cell_type": "markdown",
   "id": "e211ce24",
   "metadata": {},
   "source": [
    "# Redução da dimensionalidade com PCA\n",
    "\n",
    "O PCA localiza um novo conjunto de dimensões (ou um conjunto de base de visualizações) de modo que todas as dimensões sejam ortogonais (e, portanto, linearmente independentes) e classificadas de acordo com a variação dos dados ao longo delas. Isso significa que o eixo principal mais importante ocorre primeiro. (mais importante = mais variação/dados mais espalhados)\n",
    "\n",
    "Como funciona o PCA:\n",
    "\n",
    "* Calcule a matriz de covariância X dos pontos de dados.\n",
    "* Calcule os autovetores e os autovalores correspondentes.\n",
    "* Classifique os autovetores de acordo com seus autovalores em ordem decrescente.\n",
    "* Escolha os primeiros k autovetores e essas serão as novas k dimensões.\n",
    "* Transforme os pontos de dados dimensionais n originais em dimensões k."
   ]
  },
  {
   "cell_type": "markdown",
   "id": "27b93cd0",
   "metadata": {},
   "source": [
    "### 1. Importe todas as bibliotecas"
   ]
  },
  {
   "cell_type": "code",
   "execution_count": 98,
   "id": "25febf93",
   "metadata": {},
   "outputs": [],
   "source": [
    "import numpy as np\n",
    "import matplotlib.pyplot as plt\n",
    "import pandas as pd\n",
    "\n",
    "from sklearn import decomposition\n",
    "from sklearn import datasets\n",
    "from sklearn.preprocessing import scale"
   ]
  },
  {
   "cell_type": "markdown",
   "id": "b5b0e78b",
   "metadata": {},
   "source": [
    "### 2. Carregando dados\n",
    "\n",
    "Carregue o conjunto de dados iris dataset "
   ]
  },
  {
   "cell_type": "code",
   "execution_count": 99,
   "id": "d54eddc4",
   "metadata": {},
   "outputs": [],
   "source": [
    "# load iris dataset\n",
    "iris_data = datasets.load_iris()"
   ]
  },
  {
   "cell_type": "code",
   "execution_count": 100,
   "id": "363035b5",
   "metadata": {},
   "outputs": [
    {
     "name": "stdout",
     "output_type": "stream",
     "text": [
      ".. _iris_dataset:\n",
      "\n",
      "Iris plants dataset\n",
      "--------------------\n",
      "\n",
      "**Data Set Characteristics:**\n",
      "\n",
      "    :Number of Instances: 150 (50 in each of three classes)\n",
      "    :Number of Attributes: 4 numeric, predictive attributes and the class\n",
      "    :Attribute Information:\n",
      "        - sepal length in cm\n",
      "        - sepal width in cm\n",
      "        - petal length in cm\n",
      "        - petal width in cm\n",
      "        - class:\n",
      "                - Iris-Setosa\n",
      "                - Iris-Versicolour\n",
      "                - Iris-Virginica\n",
      "                \n",
      "    :Summary Statistics:\n",
      "\n",
      "    ============== ==== ==== ======= ===== ====================\n",
      "                    Min  Max   Mean    SD   Class Correlation\n",
      "    ============== ==== ==== ======= ===== ====================\n",
      "    sepal length:   4.3  7.9   5.84   0.83    0.7826\n",
      "    sepal width:    2.0  4.4   3.05   0.43   -0.4194\n",
      "    petal length:   1.0  6.9   3.76   1.76    0.9490  (high!)\n",
      "    petal width:    0.1  2.5   1.20   0.76    0.9565  (high!)\n",
      "    ============== ==== ==== ======= ===== ====================\n",
      "\n",
      "    :Missing Attribute Values: None\n",
      "    :Class Distribution: 33.3% for each of 3 classes.\n",
      "    :Creator: R.A. Fisher\n",
      "    :Donor: Michael Marshall (MARSHALL%PLU@io.arc.nasa.gov)\n",
      "    :Date: July, 1988\n",
      "\n",
      "The famous Iris database, first used by Sir R.A. Fisher. The dataset is taken\n",
      "from Fisher's paper. Note that it's the same as in R, but not as in the UCI\n",
      "Machine Learning Repository, which has two wrong data points.\n",
      "\n",
      "This is perhaps the best known database to be found in the\n",
      "pattern recognition literature.  Fisher's paper is a classic in the field and\n",
      "is referenced frequently to this day.  (See Duda & Hart, for example.)  The\n",
      "data set contains 3 classes of 50 instances each, where each class refers to a\n",
      "type of iris plant.  One class is linearly separable from the other 2; the\n",
      "latter are NOT linearly separable from each other.\n",
      "\n",
      ".. topic:: References\n",
      "\n",
      "   - Fisher, R.A. \"The use of multiple measurements in taxonomic problems\"\n",
      "     Annual Eugenics, 7, Part II, 179-188 (1936); also in \"Contributions to\n",
      "     Mathematical Statistics\" (John Wiley, NY, 1950).\n",
      "   - Duda, R.O., & Hart, P.E. (1973) Pattern Classification and Scene Analysis.\n",
      "     (Q327.D83) John Wiley & Sons.  ISBN 0-471-22361-1.  See page 218.\n",
      "   - Dasarathy, B.V. (1980) \"Nosing Around the Neighborhood: A New System\n",
      "     Structure and Classification Rule for Recognition in Partially Exposed\n",
      "     Environments\".  IEEE Transactions on Pattern Analysis and Machine\n",
      "     Intelligence, Vol. PAMI-2, No. 1, 67-71.\n",
      "   - Gates, G.W. (1972) \"The Reduced Nearest Neighbor Rule\".  IEEE Transactions\n",
      "     on Information Theory, May 1972, 431-433.\n",
      "   - See also: 1988 MLC Proceedings, 54-64.  Cheeseman et al\"s AUTOCLASS II\n",
      "     conceptual clustering system finds 3 classes in the data.\n",
      "   - Many, many more ...\n"
     ]
    }
   ],
   "source": [
    "X = iris_data['data']\n",
    "y = iris_data['target']\n",
    "\n",
    "descricao = iris_data['DESCR']\n",
    "print(descricao)"
   ]
  },
  {
   "cell_type": "code",
   "execution_count": 101,
   "id": "288b5ce7",
   "metadata": {},
   "outputs": [
    {
     "name": "stdout",
     "output_type": "stream",
     "text": [
      "['sepal length (cm)', 'sepal width (cm)', 'petal length (cm)', 'petal width (cm)']\n"
     ]
    }
   ],
   "source": [
    "print(iris_data.feature_names)"
   ]
  },
  {
   "cell_type": "markdown",
   "id": "3dbbf13d",
   "metadata": {},
   "source": [
    "### 3. Rode o PCA\n",
    "\n",
    "Padronize o conjunto de dados antes do PCA.\n",
    "\n",
    "Importe o PCA de sklearn.decomposition.\n",
    "\n",
    "Escolha o número de componentes principais.\n",
    "\n",
    "Se não adicionarmos nada dentro de PCA(), os valores usados serão default. Ou seja, vai calcular os autovetores de todas as dimensões. \n",
    "\n",
    "https://scikit-learn.org/stable/modules/generated/sklearn.decomposition.PCA.html"
   ]
  },
  {
   "cell_type": "code",
   "execution_count": 102,
   "id": "f9d1681f",
   "metadata": {},
   "outputs": [],
   "source": [
    "from sklearn.decomposition import PCA\n",
    "\n",
    "X = scale(iris.data)\n",
    "y = iris.target\n",
    "\n",
    "pca = decomposition.PCA()\n",
    "X = pca.fit_transform(X)"
   ]
  },
  {
   "cell_type": "markdown",
   "id": "6d71d456",
   "metadata": {},
   "source": [
    "### 4. Calcule a matriz de covariância"
   ]
  },
  {
   "cell_type": "code",
   "execution_count": 103,
   "id": "7b839675",
   "metadata": {},
   "outputs": [
    {
     "data": {
      "text/plain": [
       "array([[ 1.00671141, -0.11835884,  0.87760447,  0.82343066],\n",
       "       [-0.11835884,  1.00671141, -0.43131554, -0.36858315],\n",
       "       [ 0.87760447, -0.43131554,  1.00671141,  0.96932762],\n",
       "       [ 0.82343066, -0.36858315,  0.96932762,  1.00671141]])"
      ]
     },
     "execution_count": 103,
     "metadata": {},
     "output_type": "execute_result"
    }
   ],
   "source": [
    "pca.get_covariance()"
   ]
  },
  {
   "cell_type": "markdown",
   "id": "c0491847",
   "metadata": {},
   "source": [
    "### 5. Calcule os autovalores e autovetores"
   ]
  },
  {
   "cell_type": "code",
   "execution_count": 104,
   "id": "14536fa6",
   "metadata": {},
   "outputs": [
    {
     "data": {
      "text/plain": [
       "array([0.72962445, 0.22850762, 0.03668922, 0.00517871])"
      ]
     },
     "execution_count": 104,
     "metadata": {},
     "output_type": "execute_result"
    }
   ],
   "source": [
    "explained_variance=pca.explained_variance_ratio_\n",
    "explained_variance"
   ]
  },
  {
   "cell_type": "code",
   "execution_count": 105,
   "id": "3ca725af",
   "metadata": {},
   "outputs": [
    {
     "data": {
      "image/png": "[encoded data removed]",
      "text/plain": [
       "<Figure size 432x288 with 1 Axes>"
      ]
     },
     "metadata": {},
     "output_type": "display_data"
    }
   ],
   "source": [
    "with plt.style.context('dark_background'):\n",
    "    plt.figure(figsize=(6, 4))\n",
    "\n",
    "    plt.bar(range(4), explained_variance, alpha=0.5, align='center',\n",
    "            label='Variância explicada individual')\n",
    "    plt.ylabel('Variância explicada')\n",
    "    plt.xlabel('Componentes principais')\n",
    "    plt.legend(loc='best')\n",
    "    plt.tight_layout()"
   ]
  },
  {
   "cell_type": "markdown",
   "id": "f362c7cb",
   "metadata": {},
   "source": [
    "### 6. Escolha os componentes e forme o vetor de características\n",
    "\n",
    "Os loadings são os coeficientes da combinação linear das variáveis originais a partir das quais os componentes principais (PCs) são construídos."
   ]
  },
  {
   "cell_type": "code",
   "execution_count": 106,
   "id": "67377bb8",
   "metadata": {},
   "outputs": [
    {
     "data": {
      "text/html": [
       "<div>\n",
       "<style scoped>\n",
       "    .dataframe tbody tr th:only-of-type {\n",
       "        vertical-align: middle;\n",
       "    }\n",
       "\n",
       "    .dataframe tbody tr th {\n",
       "        vertical-align: top;\n",
       "    }\n",
       "\n",
       "    .dataframe thead th {\n",
       "        text-align: right;\n",
       "    }\n",
       "</style>\n",
       "<table border=\"1\" class=\"dataframe\">\n",
       "  <thead>\n",
       "    <tr style=\"text-align: right;\">\n",
       "      <th></th>\n",
       "      <th>PC1</th>\n",
       "      <th>PC2</th>\n",
       "      <th>PC3</th>\n",
       "      <th>PC4</th>\n",
       "    </tr>\n",
       "  </thead>\n",
       "  <tbody>\n",
       "    <tr>\n",
       "      <th>sepal length (cm)</th>\n",
       "      <td>0.521066</td>\n",
       "      <td>0.377418</td>\n",
       "      <td>-0.719566</td>\n",
       "      <td>-0.261286</td>\n",
       "    </tr>\n",
       "    <tr>\n",
       "      <th>sepal width (cm)</th>\n",
       "      <td>-0.269347</td>\n",
       "      <td>0.923296</td>\n",
       "      <td>0.244382</td>\n",
       "      <td>0.123510</td>\n",
       "    </tr>\n",
       "    <tr>\n",
       "      <th>petal length (cm)</th>\n",
       "      <td>0.580413</td>\n",
       "      <td>0.024492</td>\n",
       "      <td>0.142126</td>\n",
       "      <td>0.801449</td>\n",
       "    </tr>\n",
       "    <tr>\n",
       "      <th>petal width (cm)</th>\n",
       "      <td>0.564857</td>\n",
       "      <td>0.066942</td>\n",
       "      <td>0.634273</td>\n",
       "      <td>-0.523597</td>\n",
       "    </tr>\n",
       "  </tbody>\n",
       "</table>\n",
       "</div>"
      ],
      "text/plain": [
       "                        PC1       PC2       PC3       PC4\n",
       "sepal length (cm)  0.521066  0.377418 -0.719566 -0.261286\n",
       "sepal width (cm)  -0.269347  0.923296  0.244382  0.123510\n",
       "petal length (cm)  0.580413  0.024492  0.142126  0.801449\n",
       "petal width (cm)   0.564857  0.066942  0.634273 -0.523597"
      ]
     },
     "execution_count": 106,
     "metadata": {},
     "output_type": "execute_result"
    }
   ],
   "source": [
    "loadings = pd.DataFrame(pca.components_.T, columns=['PC1', 'PC2', 'PC3', 'PC4'], index=iris_data.feature_names)\n",
    "loadings"
   ]
  },
  {
   "cell_type": "markdown",
   "id": "398c3c44",
   "metadata": {},
   "source": [
    "### Porém, e se fossemos reduzir para 2 componentes principais\n"
   ]
  },
  {
   "cell_type": "code",
   "execution_count": 111,
   "id": "d8e3d5f2",
   "metadata": {},
   "outputs": [
    {
     "name": "stdout",
     "output_type": "stream",
     "text": [
      "(150, 2)\n"
     ]
    }
   ],
   "source": [
    "# load iris dataset\n",
    "iris = datasets.load_iris()\n",
    " \n",
    "X = scale(iris.data) #normalizar os dados\n",
    "y = iris.target\n",
    "\n",
    "\n",
    "\n",
    "# apply PCA\n",
    "pca = decomposition.PCA(n_components=2)\n",
    "X = pca.fit_transform(X)\n",
    "print(X.shape)"
   ]
  },
  {
   "cell_type": "code",
   "execution_count": 108,
   "id": "1f22da07",
   "metadata": {},
   "outputs": [
    {
     "data": {
      "text/html": [
       "<div>\n",
       "<style scoped>\n",
       "    .dataframe tbody tr th:only-of-type {\n",
       "        vertical-align: middle;\n",
       "    }\n",
       "\n",
       "    .dataframe tbody tr th {\n",
       "        vertical-align: top;\n",
       "    }\n",
       "\n",
       "    .dataframe thead th {\n",
       "        text-align: right;\n",
       "    }\n",
       "</style>\n",
       "<table border=\"1\" class=\"dataframe\">\n",
       "  <thead>\n",
       "    <tr style=\"text-align: right;\">\n",
       "      <th></th>\n",
       "      <th>PC1</th>\n",
       "      <th>PC2</th>\n",
       "    </tr>\n",
       "  </thead>\n",
       "  <tbody>\n",
       "    <tr>\n",
       "      <th>sepal length (cm)</th>\n",
       "      <td>0.521066</td>\n",
       "      <td>0.377418</td>\n",
       "    </tr>\n",
       "    <tr>\n",
       "      <th>sepal width (cm)</th>\n",
       "      <td>-0.269347</td>\n",
       "      <td>0.923296</td>\n",
       "    </tr>\n",
       "    <tr>\n",
       "      <th>petal length (cm)</th>\n",
       "      <td>0.580413</td>\n",
       "      <td>0.024492</td>\n",
       "    </tr>\n",
       "    <tr>\n",
       "      <th>petal width (cm)</th>\n",
       "      <td>0.564857</td>\n",
       "      <td>0.066942</td>\n",
       "    </tr>\n",
       "  </tbody>\n",
       "</table>\n",
       "</div>"
      ],
      "text/plain": [
       "                        PC1       PC2\n",
       "sepal length (cm)  0.521066  0.377418\n",
       "sepal width (cm)  -0.269347  0.923296\n",
       "petal length (cm)  0.580413  0.024492\n",
       "petal width (cm)   0.564857  0.066942"
      ]
     },
     "execution_count": 108,
     "metadata": {},
     "output_type": "execute_result"
    }
   ],
   "source": [
    "loadings = pd.DataFrame(pca.components_.T, columns=['PC1', 'PC2'], index=iris.feature_names)\n",
    "loadings"
   ]
  },
  {
   "cell_type": "code",
   "execution_count": 109,
   "id": "db696784",
   "metadata": {},
   "outputs": [
    {
     "name": "stdout",
     "output_type": "stream",
     "text": [
      "[0.72962445 0.22850762]\n"
     ]
    }
   ],
   "source": [
    "# check how much variance is explained by each principal component\n",
    "print(pca.explained_variance_ratio_)"
   ]
  },
  {
   "cell_type": "markdown",
   "id": "9d505bfa",
   "metadata": {},
   "source": [
    "# Atividade\n",
    "\n",
    "Selecione uma base de dados do pacote sklearn\n",
    "https://scikit-learn.org/stable/datasets.html \n",
    "    \n",
    "Explore os dados e aplique a PCA. Na sequência responda:\n",
    "    \n",
    "a) Quantas características tem a base de dados?\n",
    "\n",
    "b) Quantas amostras?\n",
    "\n",
    "c) Quantos componentes principais podem ser utilizados para formar a nova base de dados?\n",
    "\n",
    "d) Qual o nome das características que serão selecionadas conforme as CP?\n",
    "\n",
    "e) Qual a variância explicada do 1CP e 2CP?\n",
    "\n",
    "f) Faça uma pesquisa para encontrar outros métodos de seleção de características, excluindo o PCA. Quais os algoritmos mais populares? Apresente a descrição de pelo menos 2. "
   ]
  },
  {
   "cell_type": "code",
   "execution_count": null,
   "id": "9e3aebc8",
   "metadata": {},
   "outputs": [],
   "source": []
  }
 ],
 "metadata": {
  "kernelspec": {
   "display_name": "Python 3 (ipykernel)",
   "language": "python",
   "name": "python3"
  },
  "language_info": {
   "codemirror_mode": {
    "name": "ipython",
    "version": 3
   },
   "file_extension": ".py",
   "mimetype": "text/x-python",
   "name": "python",
   "nbconvert_exporter": "python",
   "pygments_lexer": "ipython3",
   "version": "3.9.13"
  }
 },
 "nbformat": 4,
 "nbformat_minor": 5
}
