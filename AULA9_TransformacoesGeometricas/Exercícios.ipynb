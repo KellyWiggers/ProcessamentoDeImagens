{
 "cells": [
  {
   "cell_type": "markdown",
   "id": "ed758f67",
   "metadata": {},
   "source": [
    "# Exercícios\n",
    "\n",
    "Selecione duas imagens coloridas e nomeie como: “img_aluno1” e “img_aluno2”.\n",
    "\n",
    "Considere a escolha de img_aluno1 com imagem de paisagem/vegetal\n",
    "Considere a escolha de img_aluno2 com imagem que contenha pessoa(s)"
   ]
  },
  {
   "cell_type": "markdown",
   "id": "8cb97efc",
   "metadata": {},
   "source": [
    "### 1) Para cada imagem, crie uma pasta. Nesta pasta voce irá salvar todas as transformações realizadas a partir das imagens originais, sendo:\n",
    "\n",
    "a) Realize a translação de 2 pontos em X e 2 pontos em Y\n"
   ]
  },
  {
   "cell_type": "code",
   "execution_count": null,
   "id": "0e3e5f14",
   "metadata": {},
   "outputs": [],
   "source": []
  },
  {
   "cell_type": "markdown",
   "id": "f1e05f76",
   "metadata": {},
   "source": [
    "b) Realize a translação de -2 pontos em X e -2 pontos em Y\n"
   ]
  },
  {
   "cell_type": "code",
   "execution_count": null,
   "id": "e46efd41",
   "metadata": {},
   "outputs": [],
   "source": []
  },
  {
   "cell_type": "markdown",
   "id": "75ad33fd",
   "metadata": {},
   "source": [
    "c) Realize a rotação de 25 graus sentido horário\n"
   ]
  },
  {
   "cell_type": "code",
   "execution_count": null,
   "id": "2abe0f69",
   "metadata": {},
   "outputs": [],
   "source": []
  },
  {
   "cell_type": "markdown",
   "id": "447c1de3",
   "metadata": {},
   "source": [
    "d) Realize a rotação de 25 graus sentido anti-horário\n"
   ]
  },
  {
   "cell_type": "code",
   "execution_count": null,
   "id": "823ce96d",
   "metadata": {},
   "outputs": [],
   "source": []
  },
  {
   "cell_type": "markdown",
   "id": "5660a971",
   "metadata": {},
   "source": [
    "e) Faça uma escala de 50% para diminuir a imagem em X e Y, sem aspect ratio (ou seja, não fazer interpolação)\n"
   ]
  },
  {
   "cell_type": "code",
   "execution_count": null,
   "id": "4d96f48e",
   "metadata": {},
   "outputs": [],
   "source": []
  },
  {
   "cell_type": "markdown",
   "id": "8c76d814",
   "metadata": {},
   "source": [
    "f) Faça uma escala de 50% para aumentar a imagem em X e Y, com aspectio ratio (ou seja, fazer interpolação de AREA)\n"
   ]
  },
  {
   "cell_type": "code",
   "execution_count": null,
   "id": "e39664aa",
   "metadata": {},
   "outputs": [],
   "source": []
  },
  {
   "cell_type": "markdown",
   "id": "44cb0e50",
   "metadata": {},
   "source": [
    "g) Faça uma escala para aumentar a largura da imagem em 25 pontos. (mantenha a altura)\n"
   ]
  },
  {
   "cell_type": "code",
   "execution_count": null,
   "id": "f2e03fb0",
   "metadata": {},
   "outputs": [],
   "source": []
  },
  {
   "cell_type": "markdown",
   "id": "8c73ac90",
   "metadata": {},
   "source": [
    "h) Faça uma escala para aumentar a altura da imagem em 25 pontos. (mantenha a largura)."
   ]
  },
  {
   "cell_type": "code",
   "execution_count": null,
   "id": "63b1013b",
   "metadata": {},
   "outputs": [],
   "source": []
  }
 ],
 "metadata": {
  "kernelspec": {
   "display_name": "Python 3",
   "language": "python",
   "name": "python3"
  },
  "language_info": {
   "codemirror_mode": {
    "name": "ipython",
    "version": 3
   },
   "file_extension": ".py",
   "mimetype": "text/x-python",
   "name": "python",
   "nbconvert_exporter": "python",
   "pygments_lexer": "ipython3",
   "version": "3.8.8"
  }
 },
 "nbformat": 4,
 "nbformat_minor": 5
}
