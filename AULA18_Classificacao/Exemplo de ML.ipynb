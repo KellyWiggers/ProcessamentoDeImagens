{
 "cells": [
  {
   "cell_type": "markdown",
   "id": "bf00f345",
   "metadata": {},
   "source": [
    "## Conjunto de dados Banksim\n",
    "\n",
    "Detecta as transações fraudulentas do conjunto de dados do Banksim. Este conjunto de dados gerado sinteticamente consiste em pagamentos de vários clientes feitos em diferentes períodos de tempo e com diferentes valores. \n",
    "\n",
    "Para obter mais informações sobre o conjunto de dados estes experimentos, você pode verificar a página do Kaggle para este conjunto de dados:\n",
    "https://www.kaggle.com/code/turkayavci/fraud-detection-on-bank-payments/notebook"
   ]
  },
  {
   "cell_type": "code",
   "execution_count": 41,
   "id": "d005d01c",
   "metadata": {},
   "outputs": [],
   "source": [
    "import numpy as np\n",
    "import pandas as pd\n",
    "import seaborn as sns\n",
    "import matplotlib.pyplot as plt\n",
    "%matplotlib inline\n",
    "\n",
    "import warnings\n",
    "warnings.filterwarnings('ignore')"
   ]
  },
  {
   "cell_type": "code",
   "execution_count": 42,
   "id": "eded81da",
   "metadata": {},
   "outputs": [],
   "source": [
    "dados = pd.read_csv('bs140513_032310.csv')"
   ]
  },
  {
   "cell_type": "markdown",
   "id": "24063013",
   "metadata": {},
   "source": [
    "### Verificar as informações do dataset"
   ]
  },
  {
   "cell_type": "code",
   "execution_count": 43,
   "id": "9e54b0de",
   "metadata": {},
   "outputs": [
    {
     "name": "stdout",
     "output_type": "stream",
     "text": [
      "<class 'pandas.core.frame.DataFrame'>\n",
      "RangeIndex: 594643 entries, 0 to 594642\n",
      "Data columns (total 10 columns):\n",
      " #   Column       Non-Null Count   Dtype  \n",
      "---  ------       --------------   -----  \n",
      " 0   step         594643 non-null  int64  \n",
      " 1   customer     594643 non-null  object \n",
      " 2   age          594643 non-null  object \n",
      " 3   gender       594643 non-null  object \n",
      " 4   zipcodeOri   594643 non-null  object \n",
      " 5   merchant     594643 non-null  object \n",
      " 6   zipMerchant  594643 non-null  object \n",
      " 7   category     594643 non-null  object \n",
      " 8   amount       594643 non-null  float64\n",
      " 9   fraud        594643 non-null  int64  \n",
      "dtypes: float64(1), int64(2), object(7)\n",
      "memory usage: 45.4+ MB\n"
     ]
    }
   ],
   "source": [
    "dados.info()"
   ]
  },
  {
   "cell_type": "markdown",
   "id": "03c8a730",
   "metadata": {},
   "source": [
    "Os dados de fraude serão desequilibrados como você vê no gráfico abaixo e na contagem de instâncias. \n",
    "Para equilibrar o conjunto de dados, pode-se executar técnicas de sobreamostragem ou subamostragem. \n",
    "\n",
    "* A sobreamostragem (oversampling) é aumentar o número da classe minoritária gerando instâncias da classe minoritária. \n",
    "* A subamostragem é a redução do número de instâncias na classe majoritária, selecionando pontos aleatórios dela para onde é igual à classe minoritária. \n",
    "\n",
    "Ambas as operações têm alguns riscos: \n",
    "* Oversample criará cópias ou pontos de dados semelhantes que às vezes não seriam úteis para o caso de detecção de fraude porque as transações fraudulentas podem variar. \n",
    "* A subamostragem significa que perdemos pontos de dados, portanto, informações. \n",
    "\n",
    "Vamos realizar uma técnica de oversampled chamada SMOTE (Synthetic Minority Over-sampling Technique). O SMOTE criará novos pontos de dados da classe minoritária usando as instâncias vizinhas, portanto, as amostras geradas não são cópias exatas, mas são semelhantes às instâncias que temos."
   ]
  },
  {
   "cell_type": "code",
   "execution_count": 44,
   "id": "1c284ac6",
   "metadata": {},
   "outputs": [
    {
     "data": {
      "image/png": "[encoded data removed]",
      "text/plain": [
       "<Figure size 432x288 with 1 Axes>"
      ]
     },
     "metadata": {
      "needs_background": "light"
     },
     "output_type": "display_data"
    },
    {
     "name": "stdout",
     "output_type": "stream",
     "text": [
      "Número de exemplos normais:  step           587443\n",
      "customer       587443\n",
      "age            587443\n",
      "gender         587443\n",
      "zipcodeOri     587443\n",
      "merchant       587443\n",
      "zipMerchant    587443\n",
      "category       587443\n",
      "amount         587443\n",
      "fraud          587443\n",
      "dtype: int64\n",
      "Número de exemplos fraudulentos:  step           7200\n",
      "customer       7200\n",
      "age            7200\n",
      "gender         7200\n",
      "zipcodeOri     7200\n",
      "merchant       7200\n",
      "zipMerchant    7200\n",
      "category       7200\n",
      "amount         7200\n",
      "fraud          7200\n",
      "dtype: int64\n"
     ]
    }
   ],
   "source": [
    "dados_fraude = dados.loc[dados.fraud == 1] \n",
    "dados_nao_fraude = dados.loc[dados.fraud == 0]\n",
    "\n",
    "sns.countplot(x=\"fraud\",data=dados)\n",
    "plt.title(\"Total de pagamentos\")\n",
    "plt.show()\n",
    "print(\"Número de exemplos normais: \",dados_nao_fraude.count())\n",
    "print(\"Número de exemplos fraudulentos: \",dados_fraude.count())"
   ]
  },
  {
   "cell_type": "markdown",
   "id": "3cec94ee",
   "metadata": {},
   "source": [
    "### Podemos ver o valor médio e o percentual de fraude por categoria. \n",
    "\n",
    "Parece que lazer e as viagens são as categorias mais selecionadas pelos fraudadores. \n",
    "\n",
    "Os fraudadores escolheram as categorias nas quais as pessoas gastam mais em média. Vamos confirmar essa hipótese verificando o valor fraudulento e não fraudulento transacionado."
   ]
  },
  {
   "cell_type": "code",
   "execution_count": 45,
   "id": "9218d0af",
   "metadata": {},
   "outputs": [
    {
     "name": "stdout",
     "output_type": "stream",
     "text": [
      "Valores médios dos atributos por categoria                               amount     fraud\n",
      "category                                      \n",
      "'es_barsandrestaurants'    43.461014  0.018829\n",
      "'es_contents'              44.547571  0.000000\n",
      "'es_fashion'               65.666642  0.017973\n",
      "'es_food'                  37.070405  0.000000\n",
      "'es_health'               135.621367  0.105126\n",
      "'es_home'                 165.670846  0.152064\n",
      "'es_hotelservices'        205.614249  0.314220\n",
      "'es_hyper'                 45.970421  0.045917\n",
      "'es_leisure'              288.911303  0.949900\n",
      "'es_otherservices'        135.881524  0.250000\n",
      "'es_sportsandtoys'        215.715280  0.495252\n",
      "'es_tech'                 120.947937  0.066667\n",
      "'es_transportation'        26.958187  0.000000\n",
      "'es_travel'              2250.409190  0.793956\n",
      "'es_wellnessandbeauty'     65.511221  0.047594\n"
     ]
    }
   ],
   "source": [
    "print(\"Valores médios dos atributos por categoria\",dados.groupby('category')['amount','fraud'].mean())"
   ]
  },
  {
   "cell_type": "markdown",
   "id": "d6022bc8",
   "metadata": {},
   "source": [
    "### Nossa hipótese para os fraudadores que escolhem as categorias nas quais as pessoas gastam mais é apenas parcialmente correta, mas, como podemos ver na tabela abaixo, podemos dizer com segurança que uma transação fraudulenta será muito mais (cerca de quatro vezes ou mais) do que a média para essa categoria ."
   ]
  },
  {
   "cell_type": "code",
   "execution_count": 46,
   "id": "3ae5e9b1",
   "metadata": {},
   "outputs": [
    {
     "data": {
      "text/html": [
       "<div>\n",
       "<style scoped>\n",
       "    .dataframe tbody tr th:only-of-type {\n",
       "        vertical-align: middle;\n",
       "    }\n",
       "\n",
       "    .dataframe tbody tr th {\n",
       "        vertical-align: top;\n",
       "    }\n",
       "\n",
       "    .dataframe thead th {\n",
       "        text-align: right;\n",
       "    }\n",
       "</style>\n",
       "<table border=\"1\" class=\"dataframe\">\n",
       "  <thead>\n",
       "    <tr style=\"text-align: right;\">\n",
       "      <th></th>\n",
       "      <th>Fraudulent</th>\n",
       "      <th>Non-Fraudulent</th>\n",
       "      <th>Percent(%)</th>\n",
       "    </tr>\n",
       "    <tr>\n",
       "      <th>category</th>\n",
       "      <th></th>\n",
       "      <th></th>\n",
       "      <th></th>\n",
       "    </tr>\n",
       "  </thead>\n",
       "  <tbody>\n",
       "    <tr>\n",
       "      <th>'es_transportation'</th>\n",
       "      <td>NaN</td>\n",
       "      <td>26.958187</td>\n",
       "      <td>0.000000</td>\n",
       "    </tr>\n",
       "    <tr>\n",
       "      <th>'es_food'</th>\n",
       "      <td>NaN</td>\n",
       "      <td>37.070405</td>\n",
       "      <td>0.000000</td>\n",
       "    </tr>\n",
       "    <tr>\n",
       "      <th>'es_hyper'</th>\n",
       "      <td>169.255429</td>\n",
       "      <td>40.037145</td>\n",
       "      <td>4.591669</td>\n",
       "    </tr>\n",
       "    <tr>\n",
       "      <th>'es_barsandrestaurants'</th>\n",
       "      <td>164.092667</td>\n",
       "      <td>41.145997</td>\n",
       "      <td>1.882944</td>\n",
       "    </tr>\n",
       "    <tr>\n",
       "      <th>'es_contents'</th>\n",
       "      <td>NaN</td>\n",
       "      <td>44.547571</td>\n",
       "      <td>0.000000</td>\n",
       "    </tr>\n",
       "    <tr>\n",
       "      <th>'es_wellnessandbeauty'</th>\n",
       "      <td>229.422535</td>\n",
       "      <td>57.320219</td>\n",
       "      <td>4.759380</td>\n",
       "    </tr>\n",
       "    <tr>\n",
       "      <th>'es_fashion'</th>\n",
       "      <td>247.008190</td>\n",
       "      <td>62.347674</td>\n",
       "      <td>1.797335</td>\n",
       "    </tr>\n",
       "    <tr>\n",
       "      <th>'es_leisure'</th>\n",
       "      <td>300.286878</td>\n",
       "      <td>73.230400</td>\n",
       "      <td>94.989980</td>\n",
       "    </tr>\n",
       "    <tr>\n",
       "      <th>'es_otherservices'</th>\n",
       "      <td>316.469605</td>\n",
       "      <td>75.685497</td>\n",
       "      <td>25.000000</td>\n",
       "    </tr>\n",
       "    <tr>\n",
       "      <th>'es_sportsandtoys'</th>\n",
       "      <td>345.366811</td>\n",
       "      <td>88.502738</td>\n",
       "      <td>49.525237</td>\n",
       "    </tr>\n",
       "    <tr>\n",
       "      <th>'es_tech'</th>\n",
       "      <td>415.274114</td>\n",
       "      <td>99.924638</td>\n",
       "      <td>6.666667</td>\n",
       "    </tr>\n",
       "    <tr>\n",
       "      <th>'es_health'</th>\n",
       "      <td>407.031338</td>\n",
       "      <td>103.737228</td>\n",
       "      <td>10.512614</td>\n",
       "    </tr>\n",
       "    <tr>\n",
       "      <th>'es_hotelservices'</th>\n",
       "      <td>421.823339</td>\n",
       "      <td>106.548545</td>\n",
       "      <td>31.422018</td>\n",
       "    </tr>\n",
       "    <tr>\n",
       "      <th>'es_home'</th>\n",
       "      <td>457.484834</td>\n",
       "      <td>113.338409</td>\n",
       "      <td>15.206445</td>\n",
       "    </tr>\n",
       "    <tr>\n",
       "      <th>'es_travel'</th>\n",
       "      <td>2660.802872</td>\n",
       "      <td>669.025533</td>\n",
       "      <td>79.395604</td>\n",
       "    </tr>\n",
       "  </tbody>\n",
       "</table>\n",
       "</div>"
      ],
      "text/plain": [
       "                          Fraudulent  Non-Fraudulent  Percent(%)\n",
       "category                                                        \n",
       "'es_transportation'              NaN       26.958187    0.000000\n",
       "'es_food'                        NaN       37.070405    0.000000\n",
       "'es_hyper'                169.255429       40.037145    4.591669\n",
       "'es_barsandrestaurants'   164.092667       41.145997    1.882944\n",
       "'es_contents'                    NaN       44.547571    0.000000\n",
       "'es_wellnessandbeauty'    229.422535       57.320219    4.759380\n",
       "'es_fashion'              247.008190       62.347674    1.797335\n",
       "'es_leisure'              300.286878       73.230400   94.989980\n",
       "'es_otherservices'        316.469605       75.685497   25.000000\n",
       "'es_sportsandtoys'        345.366811       88.502738   49.525237\n",
       "'es_tech'                 415.274114       99.924638    6.666667\n",
       "'es_health'               407.031338      103.737228   10.512614\n",
       "'es_hotelservices'        421.823339      106.548545   31.422018\n",
       "'es_home'                 457.484834      113.338409   15.206445\n",
       "'es_travel'              2660.802872      669.025533   79.395604"
      ]
     },
     "execution_count": 46,
     "metadata": {},
     "output_type": "execute_result"
    }
   ],
   "source": [
    "# Cria dataframe com dados de fraude e não fraude\n",
    "pd.concat([dados_fraude.groupby('category')['amount'].mean(),dados_nao_fraude.groupby('category')['amount'].mean(),\\\n",
    "           dados.groupby('category')['fraud'].mean()*100],keys=[\"Fraudulent\",\"Non-Fraudulent\",\"Percent(%)\"],axis=1,\\\n",
    "          sort=False).sort_values(by=['Non-Fraudulent'])"
   ]
  },
  {
   "cell_type": "markdown",
   "id": "41cbd1f1",
   "metadata": {},
   "source": [
    "### As categorias de valor médio gasto são semelhantes; entre 0-500 descartando os outliers, exceto para a categoria de viagem que vai para muito alto."
   ]
  },
  {
   "cell_type": "code",
   "execution_count": 47,
   "id": "f67239bd",
   "metadata": {},
   "outputs": [
    {
     "name": "stderr",
     "output_type": "stream",
     "text": [
      "No handles with labels found to put in legend.\n"
     ]
    },
    {
     "data": {
      "image/png": "[encoded data removed]",
      "text/plain": [
       "<Figure size 2160x720 with 1 Axes>"
      ]
     },
     "metadata": {
      "needs_background": "light"
     },
     "output_type": "display_data"
    }
   ],
   "source": [
    "# Plot histograms of the amounts in fraud and non-fraud data \n",
    "plt.figure(figsize=(30,10))\n",
    "sns.boxplot(x=dados.category,y=dados.amount)\n",
    "plt.title(\"Boxplot para quantidade gasta em cada categoria\")\n",
    "plt.ylim(0,4000)\n",
    "plt.legend()\n",
    "plt.show()"
   ]
  },
  {
   "cell_type": "markdown",
   "id": "5649f7df",
   "metadata": {},
   "source": [
    "### Mais uma vez, podemos ver no histograma abaixo que as transações fraudulentas são menos contadas, mas mais em quantidade."
   ]
  },
  {
   "cell_type": "code",
   "execution_count": 48,
   "id": "25d50403",
   "metadata": {},
   "outputs": [
    {
     "data": {
      "image/png": "[encoded data removed]",
      "text/plain": [
       "<Figure size 432x288 with 1 Axes>"
      ]
     },
     "metadata": {
      "needs_background": "light"
     },
     "output_type": "display_data"
    }
   ],
   "source": [
    "# Plot histograms of the amounts in fraud and non-fraud data \n",
    "plt.hist(dados_fraude.amount, alpha=0.5, label='fraude',bins=100)\n",
    "plt.hist(dados_nao_fraude.amount, alpha=0.5, label='não fraude',bins=100)\n",
    "plt.title(\"Histograma de pagamentos fraudulentos e não fraudulentos\")\n",
    "plt.ylim(0,10000)\n",
    "plt.xlim(0,1000)\n",
    "plt.legend()\n",
    "plt.show()"
   ]
  },
  {
   "cell_type": "markdown",
   "id": "12281976",
   "metadata": {},
   "source": [
    "### Parece que a fraude ocorre mais em idades iguais e abaixo de 18 anos. Pode ser porque os fraudadores acham que haveria menos consequências se eles mostrassem sua idade mais jovem, ou talvez eles realmente sejam jovens."
   ]
  },
  {
   "cell_type": "code",
   "execution_count": 49,
   "id": "d24a8487",
   "metadata": {},
   "outputs": [
    {
     "name": "stdout",
     "output_type": "stream",
     "text": [
      "  Idade  % de Fraude\n",
      "7   'U'     0.594228\n",
      "6   '6'     0.974826\n",
      "5   '5'     1.095112\n",
      "1   '1'     1.185254\n",
      "3   '3'     1.192815\n",
      "2   '2'     1.251401\n",
      "4   '4'     1.293281\n",
      "0   '0'     1.957586\n"
     ]
    }
   ],
   "source": [
    "print((dados.groupby('age')['fraud'].mean()*100).reset_index().rename(columns={'age':'Idade','fraud' : '% de Fraude'}).sort_values(by='% de Fraude'))"
   ]
  },
  {
   "cell_type": "markdown",
   "id": "0f40b8df",
   "metadata": {},
   "source": [
    "## Pré processamento de dados\n",
    "\n",
    "Nesta parte iremos pré-processar os dados e nos preparar para o treinamento.\n",
    "\n",
    "Há apenas um valor único de zipCode, então vamos eliminá-los."
   ]
  },
  {
   "cell_type": "code",
   "execution_count": 50,
   "id": "4c1cb9a9",
   "metadata": {},
   "outputs": [
    {
     "name": "stdout",
     "output_type": "stream",
     "text": [
      "Unique zipCodeOri values:  1\n",
      "Unique zipMerchant values:  1\n"
     ]
    }
   ],
   "source": [
    "print(\"Unique zipCodeOri values: \",dados.zipcodeOri.nunique())\n",
    "print(\"Unique zipMerchant values: \",dados.zipMerchant.nunique())\n",
    "# dropping zipcodeori and zipMerchant since they have only one unique value\n",
    "data_reduced = dados.drop(['zipcodeOri','zipMerchant'],axis=1)"
   ]
  },
  {
   "cell_type": "markdown",
   "id": "b63b459d",
   "metadata": {},
   "source": [
    "Verificando as colunas depois da exclusão"
   ]
  },
  {
   "cell_type": "code",
   "execution_count": 51,
   "id": "464fe8a4",
   "metadata": {},
   "outputs": [
    {
     "data": {
      "text/plain": [
       "Index(['step', 'customer', 'age', 'gender', 'merchant', 'category', 'amount',\n",
       "       'fraud'],\n",
       "      dtype='object')"
      ]
     },
     "execution_count": 51,
     "metadata": {},
     "output_type": "execute_result"
    }
   ],
   "source": [
    "data_reduced.columns"
   ]
  },
  {
   "cell_type": "markdown",
   "id": "eed57e05",
   "metadata": {},
   "source": [
    "### Agora vamos transformar atributos categóricos em valores numéricos. \n",
    "\n",
    "Geralmente é melhor transformar esses tipos de valores categóricos em fictícios porque eles não têm relação de tamanho (ou seja, cliente1 não é maior que cliente2), mas como são muitos (mais de 500 mil clientes e comerciantes), os recursos crescerão 10 ^ 5 em tamanho e vai demorar uma eternidade para treinar. \n"
   ]
  },
  {
   "cell_type": "code",
   "execution_count": 52,
   "id": "7873e476",
   "metadata": {},
   "outputs": [
    {
     "data": {
      "text/html": [
       "<div>\n",
       "<style scoped>\n",
       "    .dataframe tbody tr th:only-of-type {\n",
       "        vertical-align: middle;\n",
       "    }\n",
       "\n",
       "    .dataframe tbody tr th {\n",
       "        vertical-align: top;\n",
       "    }\n",
       "\n",
       "    .dataframe thead th {\n",
       "        text-align: right;\n",
       "    }\n",
       "</style>\n",
       "<table border=\"1\" class=\"dataframe\">\n",
       "  <thead>\n",
       "    <tr style=\"text-align: right;\">\n",
       "      <th></th>\n",
       "      <th>step</th>\n",
       "      <th>customer</th>\n",
       "      <th>age</th>\n",
       "      <th>gender</th>\n",
       "      <th>merchant</th>\n",
       "      <th>category</th>\n",
       "      <th>amount</th>\n",
       "      <th>fraud</th>\n",
       "    </tr>\n",
       "  </thead>\n",
       "  <tbody>\n",
       "    <tr>\n",
       "      <th>0</th>\n",
       "      <td>0</td>\n",
       "      <td>210</td>\n",
       "      <td>4</td>\n",
       "      <td>2</td>\n",
       "      <td>30</td>\n",
       "      <td>12</td>\n",
       "      <td>4.55</td>\n",
       "      <td>0</td>\n",
       "    </tr>\n",
       "    <tr>\n",
       "      <th>1</th>\n",
       "      <td>0</td>\n",
       "      <td>2753</td>\n",
       "      <td>2</td>\n",
       "      <td>2</td>\n",
       "      <td>30</td>\n",
       "      <td>12</td>\n",
       "      <td>39.68</td>\n",
       "      <td>0</td>\n",
       "    </tr>\n",
       "    <tr>\n",
       "      <th>2</th>\n",
       "      <td>0</td>\n",
       "      <td>2285</td>\n",
       "      <td>4</td>\n",
       "      <td>1</td>\n",
       "      <td>18</td>\n",
       "      <td>12</td>\n",
       "      <td>26.89</td>\n",
       "      <td>0</td>\n",
       "    </tr>\n",
       "    <tr>\n",
       "      <th>3</th>\n",
       "      <td>0</td>\n",
       "      <td>1650</td>\n",
       "      <td>3</td>\n",
       "      <td>2</td>\n",
       "      <td>30</td>\n",
       "      <td>12</td>\n",
       "      <td>17.25</td>\n",
       "      <td>0</td>\n",
       "    </tr>\n",
       "    <tr>\n",
       "      <th>4</th>\n",
       "      <td>0</td>\n",
       "      <td>3585</td>\n",
       "      <td>5</td>\n",
       "      <td>2</td>\n",
       "      <td>30</td>\n",
       "      <td>12</td>\n",
       "      <td>35.72</td>\n",
       "      <td>0</td>\n",
       "    </tr>\n",
       "  </tbody>\n",
       "</table>\n",
       "</div>"
      ],
      "text/plain": [
       "   step  customer  age  gender  merchant  category  amount  fraud\n",
       "0     0       210    4       2        30        12    4.55      0\n",
       "1     0      2753    2       2        30        12   39.68      0\n",
       "2     0      2285    4       1        18        12   26.89      0\n",
       "3     0      1650    3       2        30        12   17.25      0\n",
       "4     0      3585    5       2        30        12   35.72      0"
      ]
     },
     "execution_count": 52,
     "metadata": {},
     "output_type": "execute_result"
    }
   ],
   "source": [
    "col_categorical = data_reduced.select_dtypes(include= ['object']).columns\n",
    "for col in col_categorical:\n",
    "    data_reduced[col] = data_reduced[col].astype('category')\n",
    "# categorical values ==> numeric values\n",
    "data_reduced[col_categorical] = data_reduced[col_categorical].apply(lambda x: x.cat.codes)\n",
    "data_reduced.head(5)"
   ]
  },
  {
   "cell_type": "markdown",
   "id": "84b47d60",
   "metadata": {},
   "source": [
    "### Iniciando a formação os dados para treinamento\n",
    "\n",
    "Vamos criar as variáveis dependente (classe y) e as independentes X"
   ]
  },
  {
   "cell_type": "code",
   "execution_count": 53,
   "id": "af2c9fbf",
   "metadata": {},
   "outputs": [
    {
     "name": "stdout",
     "output_type": "stream",
     "text": [
      "   step  customer  age  gender  merchant  category  amount\n",
      "0     0       210    4       2        30        12    4.55\n",
      "1     0      2753    2       2        30        12   39.68\n",
      "2     0      2285    4       1        18        12   26.89\n",
      "3     0      1650    3       2        30        12   17.25\n",
      "4     0      3585    5       2        30        12   35.72 \n",
      "\n",
      "0    0\n",
      "1    0\n",
      "2    0\n",
      "3    0\n",
      "4    0\n",
      "Name: fraud, dtype: int64\n"
     ]
    }
   ],
   "source": [
    "X = data_reduced.drop(['fraud'],axis=1)\n",
    "y = dados['fraud']\n",
    "print(X.head(),\"\\n\")\n",
    "print(y.head())"
   ]
  },
  {
   "cell_type": "code",
   "execution_count": 54,
   "id": "ea366a61",
   "metadata": {},
   "outputs": [
    {
     "data": {
      "text/plain": [
       "7200"
      ]
     },
     "execution_count": 54,
     "metadata": {},
     "output_type": "execute_result"
    }
   ],
   "source": [
    "y[y==1].count()"
   ]
  },
  {
   "cell_type": "markdown",
   "id": "843e50e8",
   "metadata": {},
   "source": [
    "### Oversampling com SMOTE\n",
    "Usando SMOTE (Synthetic Minority Oversampling Technique) para balancear o conjunto de dados. As contagens resultantes mostram que agora temos o número exato de instâncias de classe (1 e 0)."
   ]
  },
  {
   "cell_type": "code",
   "execution_count": 32,
   "id": "bc0dd239",
   "metadata": {},
   "outputs": [
    {
     "name": "stdout",
     "output_type": "stream",
     "text": [
      "Collecting package metadata (current_repodata.json): ...working... done\n",
      "Solving environment: ...working... done\n",
      "\n",
      "## Package Plan ##\n",
      "\n",
      "  environment location: C:\\Users\\kelly\\anaconda3\n",
      "\n",
      "  added / updated specs:\n",
      "    - imbalanced-learn\n",
      "\n",
      "\n",
      "The following packages will be downloaded:\n",
      "\n",
      "    package                    |            build\n",
      "    ---------------------------|-----------------\n",
      "    conda-4.14.0               |   py38haa244fe_0         1.0 MB  conda-forge\n",
      "    imbalanced-learn-0.7.0     |             py_1          97 KB  conda-forge\n",
      "    python_abi-3.8             |           2_cp38           4 KB  conda-forge\n",
      "    ------------------------------------------------------------\n",
      "                                           Total:         1.1 MB\n",
      "\n",
      "The following NEW packages will be INSTALLED:\n",
      "\n",
      "  imbalanced-learn   conda-forge/noarch::imbalanced-learn-0.7.0-py_1\n",
      "  python_abi         conda-forge/win-64::python_abi-3.8-2_cp38\n",
      "\n",
      "The following packages will be UPDATED:\n",
      "\n",
      "  conda              pkgs/main::conda-4.10.1-py38haa95532_1 --> conda-forge::conda-4.14.0-py38haa244fe_0\n",
      "\n",
      "\n",
      "\n",
      "Downloading and Extracting Packages\n",
      "\n",
      "imbalanced-learn-0.7 | 97 KB     |            |   0% \n",
      "imbalanced-learn-0.7 | 97 KB     | #6         |  17% \n",
      "imbalanced-learn-0.7 | 97 KB     | ######6    |  66% \n",
      "imbalanced-learn-0.7 | 97 KB     | ########## | 100% \n",
      "imbalanced-learn-0.7 | 97 KB     | ########## | 100% \n",
      "\n",
      "conda-4.14.0         | 1.0 MB    |            |   0% \n",
      "conda-4.14.0         | 1.0 MB    | ##6        |  26% \n",
      "conda-4.14.0         | 1.0 MB    | ######3    |  63% \n",
      "conda-4.14.0         | 1.0 MB    | ########## | 100% \n",
      "conda-4.14.0         | 1.0 MB    | ########## | 100% \n",
      "\n",
      "python_abi-3.8       | 4 KB      |            |   0% \n",
      "python_abi-3.8       | 4 KB      | ########## | 100% \n",
      "Preparing transaction: ...working... done\n",
      "Verifying transaction: ...working... done\n",
      "Executing transaction: ...working... done\n",
      "\n",
      "Note: you may need to restart the kernel to use updated packages.\n"
     ]
    },
    {
     "name": "stderr",
     "output_type": "stream",
     "text": [
      "\n",
      "\n",
      "==> WARNING: A newer version of conda exists. <==\n",
      "  current version: 4.10.1\n",
      "  latest version: 23.1.0\n",
      "\n",
      "Please update conda by running\n",
      "\n",
      "    $ conda update -n base -c defaults conda\n",
      "\n",
      "\n"
     ]
    }
   ],
   "source": [
    "conda install -c conda-forge imbalanced-learn"
   ]
  },
  {
   "cell_type": "code",
   "execution_count": 56,
   "id": "5a262494",
   "metadata": {},
   "outputs": [],
   "source": [
    "from imblearn.over_sampling import SMOTE\n",
    "\n",
    "\n",
    "sm = SMOTE(random_state=42)\n",
    "X_res, y_res = sm.fit_resample(X, y)\n",
    "y_res = pd.DataFrame(y_res)\n"
   ]
  },
  {
   "cell_type": "code",
   "execution_count": 57,
   "id": "832bce63",
   "metadata": {},
   "outputs": [
    {
     "data": {
      "text/plain": [
       "0         0\n",
       "1         0\n",
       "2         0\n",
       "3         0\n",
       "4         0\n",
       "         ..\n",
       "594638    0\n",
       "594639    0\n",
       "594640    0\n",
       "594641    0\n",
       "594642    0\n",
       "Name: fraud, Length: 594643, dtype: int64"
      ]
     },
     "execution_count": 57,
     "metadata": {},
     "output_type": "execute_result"
    }
   ],
   "source": [
    "y"
   ]
  },
  {
   "cell_type": "code",
   "execution_count": 58,
   "id": "9597a341",
   "metadata": {},
   "outputs": [
    {
     "data": {
      "text/html": [
       "<div>\n",
       "<style scoped>\n",
       "    .dataframe tbody tr th:only-of-type {\n",
       "        vertical-align: middle;\n",
       "    }\n",
       "\n",
       "    .dataframe tbody tr th {\n",
       "        vertical-align: top;\n",
       "    }\n",
       "\n",
       "    .dataframe thead th {\n",
       "        text-align: right;\n",
       "    }\n",
       "</style>\n",
       "<table border=\"1\" class=\"dataframe\">\n",
       "  <thead>\n",
       "    <tr style=\"text-align: right;\">\n",
       "      <th></th>\n",
       "      <th>fraud</th>\n",
       "    </tr>\n",
       "  </thead>\n",
       "  <tbody>\n",
       "    <tr>\n",
       "      <th>0</th>\n",
       "      <td>0</td>\n",
       "    </tr>\n",
       "    <tr>\n",
       "      <th>1</th>\n",
       "      <td>0</td>\n",
       "    </tr>\n",
       "    <tr>\n",
       "      <th>2</th>\n",
       "      <td>0</td>\n",
       "    </tr>\n",
       "    <tr>\n",
       "      <th>3</th>\n",
       "      <td>0</td>\n",
       "    </tr>\n",
       "    <tr>\n",
       "      <th>4</th>\n",
       "      <td>0</td>\n",
       "    </tr>\n",
       "    <tr>\n",
       "      <th>...</th>\n",
       "      <td>...</td>\n",
       "    </tr>\n",
       "    <tr>\n",
       "      <th>1174881</th>\n",
       "      <td>1</td>\n",
       "    </tr>\n",
       "    <tr>\n",
       "      <th>1174882</th>\n",
       "      <td>1</td>\n",
       "    </tr>\n",
       "    <tr>\n",
       "      <th>1174883</th>\n",
       "      <td>1</td>\n",
       "    </tr>\n",
       "    <tr>\n",
       "      <th>1174884</th>\n",
       "      <td>1</td>\n",
       "    </tr>\n",
       "    <tr>\n",
       "      <th>1174885</th>\n",
       "      <td>1</td>\n",
       "    </tr>\n",
       "  </tbody>\n",
       "</table>\n",
       "<p>1174886 rows × 1 columns</p>\n",
       "</div>"
      ],
      "text/plain": [
       "         fraud\n",
       "0            0\n",
       "1            0\n",
       "2            0\n",
       "3            0\n",
       "4            0\n",
       "...        ...\n",
       "1174881      1\n",
       "1174882      1\n",
       "1174883      1\n",
       "1174884      1\n",
       "1174885      1\n",
       "\n",
       "[1174886 rows x 1 columns]"
      ]
     },
     "execution_count": 58,
     "metadata": {},
     "output_type": "execute_result"
    }
   ],
   "source": [
    "y_res"
   ]
  },
  {
   "cell_type": "code",
   "execution_count": 71,
   "id": "8a6178fe",
   "metadata": {},
   "outputs": [
    {
     "data": {
      "image/png": "[encoded data removed]",
      "text/plain": [
       "<Figure size 432x288 with 1 Axes>"
      ]
     },
     "metadata": {
      "needs_background": "light"
     },
     "output_type": "display_data"
    },
    {
     "name": "stdout",
     "output_type": "stream",
     "text": [
      "Número de exemplos normais:  fraud    587443\n",
      "dtype: int64\n",
      "Número de exemplos fraudulentos:  fraud    587443\n",
      "dtype: int64\n"
     ]
    }
   ],
   "source": [
    "df_fraude = y_res.loc[y_res.fraud == 1] \n",
    "df_n_fraude = y_res.loc[y_res.fraud == 0]\n",
    "\n",
    "sns.countplot(x=\"fraud\",data=y_res)\n",
    "plt.title(\"Total de pagamentos\")\n",
    "plt.show()\n",
    "print(\"Número de exemplos normais: \",df_fraude.count())\n",
    "print(\"Número de exemplos fraudulentos: \",df_n_fraude.count())"
   ]
  },
  {
   "cell_type": "markdown",
   "id": "bec607d6",
   "metadata": {},
   "source": [
    "### Faremos uma divisão de teste de treino para medir o desempenho. \n",
    "\n",
    "Não vamos usar validação cruzada, pois temos muitas instâncias e pode demorar muito o treinamento, mas deve ser melhor validar cruzada na maioria das vezes."
   ]
  },
  {
   "cell_type": "code",
   "execution_count": 61,
   "id": "1133a79c",
   "metadata": {},
   "outputs": [],
   "source": [
    "## Metrics\n",
    "from sklearn.model_selection import train_test_split\n",
    "from sklearn.metrics import confusion_matrix, classification_report\n",
    "from sklearn.metrics import roc_curve, auc\n",
    "\n",
    "## Models\n",
    "from sklearn.neighbors import KNeighborsClassifier\n",
    "from sklearn.ensemble import RandomForestClassifier\n",
    "from sklearn.ensemble import VotingClassifier"
   ]
  },
  {
   "cell_type": "code",
   "execution_count": 62,
   "id": "1297a237",
   "metadata": {},
   "outputs": [],
   "source": [
    "X_train, X_test, y_train, y_test = train_test_split(X_res,y_res,test_size=0.3,random_state=42,shuffle=True,stratify=y_res)"
   ]
  },
  {
   "cell_type": "markdown",
   "id": "053a7066",
   "metadata": {},
   "source": [
    "### Vamos uma função para traçar a curva ROC_AUC. É uma boa maneira visual de ver o desempenho da classificação."
   ]
  },
  {
   "cell_type": "code",
   "execution_count": 63,
   "id": "b5148297",
   "metadata": {},
   "outputs": [],
   "source": [
    "# %% Function for plotting ROC_AUC curve\n",
    "\n",
    "def plot_roc_auc(y_test, preds):\n",
    "    fpr, tpr, threshold = roc_curve(y_test, preds)\n",
    "    roc_auc = auc(fpr, tpr)\n",
    "    plt.title('AUC do treinamento')\n",
    "    plt.plot(fpr, tpr, 'b', label = 'AUC = %0.2f' % roc_auc)\n",
    "    plt.legend(loc = 'lower right')\n",
    "    plt.plot([0, 1], [0, 1],'r--')\n",
    "    plt.xlim([0, 1])\n",
    "    plt.ylim([0, 1])\n",
    "    plt.ylabel('Verdadeiros positivos')\n",
    "    plt.xlabel('Falsos positivos')\n",
    "    plt.show()"
   ]
  },
  {
   "cell_type": "markdown",
   "id": "0120b63c",
   "metadata": {},
   "source": [
    "Como falei sobre isso antes, os conjuntos de dados de fraude serão desequilibrados e a maioria das instâncias não será fraudulenta. \n",
    "\n",
    "Imagine que temos o conjunto de dados aqui e estamos sempre prevendo não fraudulentos. Nossa precisão seria de quase 99% para este conjunto de dados e principalmente para outros, pois a porcentagem de fraude é muito baixa. Nossa precisão é muito alta, mas não detectamos nenhuma fraude, portanto, é um classificador inútil. \n",
    "\n",
    "Portanto, a pontuação de precisão básica deve ser melhor, pelo menos, do que prever sempre não fraudulento para realizar uma detecção."
   ]
  },
  {
   "cell_type": "code",
   "execution_count": 65,
   "id": "afb79a13",
   "metadata": {},
   "outputs": [
    {
     "name": "stdout",
     "output_type": "stream",
     "text": [
      "A pontuação de precisão básica que devemos vencer é:  98.7891894800746\n"
     ]
    }
   ],
   "source": [
    "print(\"A pontuação de precisão básica que devemos vencer é: \", \n",
    "      dados_nao_fraude.fraud.count()/ np.add(dados_nao_fraude.fraud.count(),dados_fraude.fraud.count()) * 100)"
   ]
  },
  {
   "cell_type": "markdown",
   "id": "c1470cf5",
   "metadata": {},
   "source": [
    "### K vizinhos mais próximos"
   ]
  },
  {
   "cell_type": "code",
   "execution_count": 66,
   "id": "9b346055",
   "metadata": {},
   "outputs": [
    {
     "name": "stdout",
     "output_type": "stream",
     "text": [
      "Resultado de classificação usando KNN: \n",
      "               precision    recall  f1-score   support\n",
      "\n",
      "           0       1.00      0.98      0.99    176233\n",
      "           1       0.98      1.00      0.99    176233\n",
      "\n",
      "    accuracy                           0.99    352466\n",
      "   macro avg       0.99      0.99      0.99    352466\n",
      "weighted avg       0.99      0.99      0.99    352466\n",
      "\n",
      "Matriz de confusão: \n",
      " [[171999   4234]\n",
      " [   362 175871]]\n"
     ]
    },
    {
     "data": {
      "image/png": "[encoded data removed]",
      "text/plain": [
       "<Figure size 432x288 with 1 Axes>"
      ]
     },
     "metadata": {
      "needs_background": "light"
     },
     "output_type": "display_data"
    }
   ],
   "source": [
    "knn = KNeighborsClassifier(n_neighbors=5,p=1)\n",
    "\n",
    "knn.fit(X_train,y_train)\n",
    "y_pred = knn.predict(X_test)\n",
    "\n",
    "\n",
    "print(\"Resultado de classificação usando KNN: \\n\", classification_report(y_test, y_pred))\n",
    "print(\"Matriz de confusão: \\n\", confusion_matrix(y_test,y_pred))\n",
    "plot_roc_auc(y_test, knn.predict_proba(X_test)[:,1])"
   ]
  },
  {
   "cell_type": "markdown",
   "id": "4556a7d8",
   "metadata": {},
   "source": [
    "### Random Forest"
   ]
  },
  {
   "cell_type": "code",
   "execution_count": 68,
   "id": "f6b6600b",
   "metadata": {},
   "outputs": [
    {
     "name": "stderr",
     "output_type": "stream",
     "text": [
      "[Parallel(n_jobs=1)]: Using backend SequentialBackend with 1 concurrent workers.\n",
      "[Parallel(n_jobs=1)]: Done 100 out of 100 | elapsed:  1.1min finished\n",
      "[Parallel(n_jobs=1)]: Using backend SequentialBackend with 1 concurrent workers.\n",
      "[Parallel(n_jobs=1)]: Done 100 out of 100 | elapsed:    2.5s finished\n"
     ]
    },
    {
     "name": "stdout",
     "output_type": "stream",
     "text": [
      "Resultado de classificação usando Random Forest: \n",
      "               precision    recall  f1-score   support\n",
      "\n",
      "           0       0.99      0.97      0.98    176233\n",
      "           1       0.97      0.99      0.98    176233\n",
      "\n",
      "    accuracy                           0.98    352466\n",
      "   macro avg       0.98      0.98      0.98    352466\n",
      "weighted avg       0.98      0.98      0.98    352466\n",
      "\n",
      "Matriz de confusão: \n",
      " [[170106   6127]\n",
      " [  1079 175154]]\n"
     ]
    },
    {
     "name": "stderr",
     "output_type": "stream",
     "text": [
      "[Parallel(n_jobs=1)]: Using backend SequentialBackend with 1 concurrent workers.\n",
      "[Parallel(n_jobs=1)]: Done 100 out of 100 | elapsed:    2.5s finished\n"
     ]
    },
    {
     "data": {
      "image/png": "[encoded data removed]",
      "text/plain": [
       "<Figure size 432x288 with 1 Axes>"
      ]
     },
     "metadata": {
      "needs_background": "light"
     },
     "output_type": "display_data"
    }
   ],
   "source": [
    "# %% Random Forest Classifier\n",
    "\n",
    "rf_clf = RandomForestClassifier(n_estimators=100,max_depth=8,random_state=42,\n",
    "                                verbose=1,class_weight=\"balanced\")\n",
    "\n",
    "rf_clf.fit(X_train,y_train)\n",
    "y_pred = rf_clf.predict(X_test)\n",
    "\n",
    "print(\"Resultado de classificação usando Random Forest: \\n\", classification_report(y_test, y_pred))\n",
    "print(\"Matriz de confusão: \\n\", confusion_matrix(y_test,y_pred))\n",
    "plot_roc_auc(y_test, rf_clf.predict_proba(X_test)[:,1])"
   ]
  },
  {
   "cell_type": "markdown",
   "id": "d292f209",
   "metadata": {},
   "source": [
    "### Referências\n",
    "\n",
    "[1]. Lavion, Didier; et al. \"PwC's Global Economic Crime and Fraud Survey 2018\" (PDF). PwC.com. Retrieved 28 August 2018.\n",
    "\n",
    "[2]. SMOTE: Synthetic Minority Over-sampling Technique"
   ]
  },
  {
   "cell_type": "code",
   "execution_count": null,
   "id": "4c370432",
   "metadata": {},
   "outputs": [],
   "source": []
  }
 ],
 "metadata": {
  "kernelspec": {
   "display_name": "Python 3",
   "language": "python",
   "name": "python3"
  },
  "language_info": {
   "codemirror_mode": {
    "name": "ipython",
    "version": 3
   },
   "file_extension": ".py",
   "mimetype": "text/x-python",
   "name": "python",
   "nbconvert_exporter": "python",
   "pygments_lexer": "ipython3",
   "version": "3.8.8"
  }
 },
 "nbformat": 4,
 "nbformat_minor": 5
}
