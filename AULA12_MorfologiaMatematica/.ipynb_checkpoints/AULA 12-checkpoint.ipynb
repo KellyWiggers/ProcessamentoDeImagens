{
 "cells": [
  {
   "cell_type": "markdown",
   "id": "6fc9d893",
   "metadata": {},
   "source": [
    "# Morfologia matemática\n",
    "\n",
    "As transformações morfológicas são algumas operações simples baseadas na forma da imagem. Normalmente são executadas em imagens binárias. Ele precisa de duas entradas, uma é a nossa imagem original, a segunda é chamada de elemento estruturante ou núcleo que decide a natureza da operação. \n",
    "\n",
    "Dois operadores morfológicos básicos são Erosão e Dilatação. \n",
    "\n",
    "Em seguida, suas formas variantes, como Abertura, Fechamento, Gradiente, etc., também entram em jogo. Vamos vê-los um por um com a ajuda da seguinte imagem:"
   ]
  },
  {
   "cell_type": "markdown",
   "id": "a1a59d5d",
   "metadata": {},
   "source": [
    "### 1. Erosão\n",
    "\n",
    "A ideia básica da erosão é apenas como a erosão do solo, ela erode os limites do objeto em primeiro plano (sempre tente manter o primeiro plano em branco). Então o que ele faz? \n",
    "\n",
    "O kernel desliza pela imagem (como na convolução 2D). Um pixel na imagem original (seja 1 ou 0) será considerado 1 apenas se todos os pixels sob o kernel forem 1, caso contrário, ele será erodido (tornado a zero).\n",
    "\n",
    "Então, o que acontece é que todos os pixels próximos ao limite serão descartados dependendo do tamanho do kernel. Assim, a espessura ou o tamanho do objeto em primeiro plano diminui ou simplesmente a região branca diminui na imagem. É útil para remover pequenos ruídos brancos (como vimos no capítulo sobre espaço de cores), separar dois objetos conectados etc.\n",
    "\n",
    "Aqui, como exemplo, eu usaria um kernel 5x5 cheio de uns. Vejamos como funciona:"
   ]
  },
  {
   "cell_type": "code",
   "execution_count": 1,
   "id": "faf50b62",
   "metadata": {},
   "outputs": [],
   "source": [
    "import cv2 as cv\n",
    "import numpy as np\n",
    "\n",
    "img = cv.imread('j.png', cv.IMREAD_GRAYSCALE)\n",
    "assert img is not None, \"file could not be read, check with os.path.exists()\"\n",
    "kernel = np.ones((5,5),np.uint8)\n",
    "erosion = cv.erode(img,kernel,iterations = 1)"
   ]
  },
  {
   "cell_type": "code",
   "execution_count": null,
   "id": "2fd81de6",
   "metadata": {},
   "outputs": [],
   "source": []
  }
 ],
 "metadata": {
  "kernelspec": {
   "display_name": "Python 3",
   "language": "python",
   "name": "python3"
  },
  "language_info": {
   "codemirror_mode": {
    "name": "ipython",
    "version": 3
   },
   "file_extension": ".py",
   "mimetype": "text/x-python",
   "name": "python",
   "nbconvert_exporter": "python",
   "pygments_lexer": "ipython3",
   "version": "3.8.8"
  }
 },
 "nbformat": 4,
 "nbformat_minor": 5
}
