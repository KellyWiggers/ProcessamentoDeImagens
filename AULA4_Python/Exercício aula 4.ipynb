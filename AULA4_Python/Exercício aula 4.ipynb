{
 "cells": [
  {
   "cell_type": "markdown",
   "id": "ec534ab6",
   "metadata": {},
   "source": [
    "# Exercício AULA 4"
   ]
  },
  {
   "cell_type": "markdown",
   "id": "6224226c",
   "metadata": {},
   "source": [
    "## 1) Escolha uma imagem de seu interesse e realize as operações solicitadas abaixo:"
   ]
  },
  {
   "cell_type": "markdown",
   "id": "6a40e50f",
   "metadata": {},
   "source": [
    "## a) Leitura da imagem"
   ]
  },
  {
   "cell_type": "code",
   "execution_count": null,
   "id": "f7943c29",
   "metadata": {},
   "outputs": [],
   "source": []
  },
  {
   "cell_type": "markdown",
   "id": "e496d021",
   "metadata": {},
   "source": [
    "## b) Mostre as dimensões (shape) e número de canais"
   ]
  },
  {
   "cell_type": "code",
   "execution_count": null,
   "id": "e40d945e",
   "metadata": {},
   "outputs": [],
   "source": []
  },
  {
   "cell_type": "markdown",
   "id": "44187d51",
   "metadata": {},
   "source": [
    "## c) Insira um pequeno retângulo na posição 0,0, de dimensão (20,20)"
   ]
  },
  {
   "cell_type": "code",
   "execution_count": null,
   "id": "694ddda0",
   "metadata": {},
   "outputs": [],
   "source": []
  },
  {
   "cell_type": "markdown",
   "id": "ae2905c6",
   "metadata": {},
   "source": [
    "## d) Faça o quarto quadrante da imagem ficar pintada de preto."
   ]
  },
  {
   "cell_type": "code",
   "execution_count": null,
   "id": "1ce40f1c",
   "metadata": {},
   "outputs": [],
   "source": []
  },
  {
   "cell_type": "markdown",
   "id": "c6fdb559",
   "metadata": {},
   "source": [
    "## e) Rotacione a imagem em 75 graus"
   ]
  },
  {
   "cell_type": "code",
   "execution_count": null,
   "id": "72cd242b",
   "metadata": {},
   "outputs": [],
   "source": []
  },
  {
   "cell_type": "markdown",
   "id": "872bc37a",
   "metadata": {},
   "source": [
    "## f) Faça um flip horizontal na imagem"
   ]
  },
  {
   "cell_type": "code",
   "execution_count": null,
   "id": "75daf24c",
   "metadata": {},
   "outputs": [],
   "source": []
  },
  {
   "cell_type": "markdown",
   "id": "c20c85c5",
   "metadata": {},
   "source": [
    "## g) Redimensione a imagem para largura de 200 pixels"
   ]
  },
  {
   "cell_type": "code",
   "execution_count": null,
   "id": "a4a726c4",
   "metadata": {},
   "outputs": [],
   "source": []
  },
  {
   "cell_type": "markdown",
   "id": "454bd4a3",
   "metadata": {},
   "source": [
    "## h) Salve a imagem no disco com o nome \"nova_imagem.png\""
   ]
  },
  {
   "cell_type": "code",
   "execution_count": null,
   "id": "a56924d3",
   "metadata": {},
   "outputs": [],
   "source": []
  }
 ],
 "metadata": {
  "kernelspec": {
   "display_name": "Python 3",
   "language": "python",
   "name": "python3"
  },
  "language_info": {
   "codemirror_mode": {
    "name": "ipython",
    "version": 3
   },
   "file_extension": ".py",
   "mimetype": "text/x-python",
   "name": "python",
   "nbconvert_exporter": "python",
   "pygments_lexer": "ipython3",
   "version": "3.8.8"
  }
 },
 "nbformat": 4,
 "nbformat_minor": 5
}
