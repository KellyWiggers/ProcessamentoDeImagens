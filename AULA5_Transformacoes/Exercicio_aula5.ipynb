{
 "cells": [
  {
   "cell_type": "markdown",
   "id": "780620ea",
   "metadata": {},
   "source": [
    "# Exercícios\n",
    "\n",
    "Utilize as imagens \n",
    "* lena.png \n",
    "* unequalized.jpg\n",
    "* imagem_Folha.jpg\n",
    "\n",
    "disponíveis no repositório da aula 5. Selecione e utilize também uma imagem de sua preferência (colorida) de tamanho 500x500. Caso seja maior, procure redimensionar/recortar. Nos exercícios a seguir, essa imagem selecionada pelo aluno será chamada de \"img_aluno\". \n",
    "Responda às questões a seguir. "
   ]
  },
  {
   "cell_type": "markdown",
   "id": "59bb56df",
   "metadata": {},
   "source": [
    "# 1) Implemente o algoritmo para converter para níveis de cinza todas as imagens"
   ]
  },
  {
   "cell_type": "code",
   "execution_count": null,
   "id": "773e6c02",
   "metadata": {},
   "outputs": [],
   "source": []
  },
  {
   "cell_type": "markdown",
   "id": "14eb4ce7",
   "metadata": {},
   "source": [
    "# 2) Implemente o algoritmo que gera o negativo e utilize-o nas imagens \"lena.png\", \"imagem_Folha.jpg\" e \"img_aluno\"."
   ]
  },
  {
   "cell_type": "code",
   "execution_count": null,
   "id": "58b5af4d",
   "metadata": {},
   "outputs": [],
   "source": []
  },
  {
   "cell_type": "markdown",
   "id": "ce41e821",
   "metadata": {},
   "source": [
    "# 3) Implemente o ajuste de contraste (normalização) e utilize nas imagens \"lena.png\",  \"imagem_Folha.jpg\" e \"img_aluno\""
   ]
  },
  {
   "cell_type": "code",
   "execution_count": null,
   "id": "40b380b7",
   "metadata": {},
   "outputs": [],
   "source": []
  },
  {
   "cell_type": "markdown",
   "id": "2c7229d0",
   "metadata": {},
   "source": [
    "# 4) Implemente o operador logarítmico na imagem \"lena.png\",  \"imagem_Folha.jpg\" e \"img_aluno\""
   ]
  },
  {
   "cell_type": "code",
   "execution_count": null,
   "id": "8bab9678",
   "metadata": {},
   "outputs": [],
   "source": []
  },
  {
   "cell_type": "markdown",
   "id": "d501b211",
   "metadata": {},
   "source": [
    "# 5) Utilize o algoritmo de histograma da seguinte forma:\n",
    "\n",
    "(i) Utilize o algoritmo de conversão de níveis de cinza na imagem “unequalized.jpg” para que fique com apenas uma camada. Em seguida, utilize histograma nessa imagem com uma camada.\n",
    "\n",
    "(ii) Utilize histograma em cada camada R, G e B de “img_aluno”.\n",
    "\n",
    "(iii) Utilize histograma em cada camada R, G e B de “imagem_Folha.jpg”."
   ]
  },
  {
   "cell_type": "code",
   "execution_count": null,
   "id": "39375718",
   "metadata": {},
   "outputs": [],
   "source": []
  },
  {
   "cell_type": "code",
   "execution_count": null,
   "id": "40424bc9",
   "metadata": {},
   "outputs": [],
   "source": []
  },
  {
   "cell_type": "code",
   "execution_count": null,
   "id": "9371afe9",
   "metadata": {},
   "outputs": [],
   "source": []
  },
  {
   "cell_type": "markdown",
   "id": "6c644a2d",
   "metadata": {},
   "source": [
    "# 6) Implemente a equalização de histograma. Utilize-o nas imagens \"lena.png\", \"unequalized.jpg\", \"imagem_Folha.jpg\" e \"img_aluno\""
   ]
  },
  {
   "cell_type": "code",
   "execution_count": null,
   "id": "be1e217d",
   "metadata": {},
   "outputs": [],
   "source": []
  },
  {
   "cell_type": "markdown",
   "id": "a1d6aad2",
   "metadata": {},
   "source": [
    "# 7) Na imagem \"imagem_Folha.jpg\", faça as seguintes operações:\n",
    "\n",
    "a) transforme para o canal de cor HSL (cv2.COLOR_BGR2HLS)\n",
    "\n",
    "b) Separe cada canal para poder obter imagem de H, imagem de L e imagem S. (h = img[:,:,0], l = img[:,:,1], s= img[:,:,2])\n",
    "\n",
    "c) Aplique a equalização do histograma no canal L, formando o canal L_equalizado\n",
    "\n",
    "d) Junte os canais novamente para formar a imagem H, L_equalizado, S\n",
    "\n",
    "e) converta novamente para uma imagem RGB\n",
    "\n",
    "f) compare as duas imagens e verique o que modificou. (Se preferir pode plotar os histogramas)."
   ]
  },
  {
   "cell_type": "code",
   "execution_count": null,
   "id": "3b905d63",
   "metadata": {},
   "outputs": [],
   "source": []
  },
  {
   "cell_type": "code",
   "execution_count": null,
   "id": "b7d39a47",
   "metadata": {},
   "outputs": [],
   "source": []
  },
  {
   "cell_type": "code",
   "execution_count": null,
   "id": "5590a30d",
   "metadata": {},
   "outputs": [],
   "source": []
  },
  {
   "cell_type": "code",
   "execution_count": null,
   "id": "cbc5697f",
   "metadata": {},
   "outputs": [],
   "source": []
  },
  {
   "cell_type": "code",
   "execution_count": null,
   "id": "fdaf58a9",
   "metadata": {},
   "outputs": [],
   "source": []
  },
  {
   "cell_type": "code",
   "execution_count": null,
   "id": "8362dfa1",
   "metadata": {},
   "outputs": [],
   "source": []
  }
 ],
 "metadata": {
  "kernelspec": {
   "display_name": "Python 3",
   "language": "python",
   "name": "python3"
  },
  "language_info": {
   "codemirror_mode": {
    "name": "ipython",
    "version": 3
   },
   "file_extension": ".py",
   "mimetype": "text/x-python",
   "name": "python",
   "nbconvert_exporter": "python",
   "pygments_lexer": "ipython3",
   "version": "3.8.8"
  }
 },
 "nbformat": 4,
 "nbformat_minor": 5
}
